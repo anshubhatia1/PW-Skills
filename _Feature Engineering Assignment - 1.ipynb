{
 "cells": [
  {
   "cell_type": "markdown",
   "id": "fa55f421",
   "metadata": {},
   "source": [
    "### Q1: What are missing values in a dataset? Why is it essential to handle missing values? Name some algorithms that are not affected by missing values."
   ]
  },
  {
   "cell_type": "markdown",
   "id": "ea820ea8",
   "metadata": {},
   "source": [
    "Missing values in a dataset are data entries that are absent or null. Handling missing values is crucial because they can lead to biased estimates, reduce statistical power, and affect the performance of machine learning models.\n",
    "\n",
    "Some algorithms that are not significantly affected by missing values include:\n",
    "- **Decision Trees**\n",
    "- **Random Forests**\n",
    "- **XGBoost**\n",
    "\n",
    "These algorithms can handle missing values by using methods like surrogate splits (in Decision Trees) or by default handling mechanisms (in Random Forests and XGBoost)."
   ]
  },
  {
   "cell_type": "markdown",
   "id": "0ca2b9a4",
   "metadata": {},
   "source": [
    "### Q2: List down techniques used to handle missing data. Give an example of each with python code."
   ]
  },
  {
   "cell_type": "markdown",
   "id": "ea5b74ba",
   "metadata": {},
   "source": [
    "Here are some common techniques used to handle missing data, along with examples in Python:\n",
    "\n",
    "####  Removing Missing Values"
   ]
  },
  {
   "cell_type": "code",
   "execution_count": 1,
   "id": "da47d56f",
   "metadata": {},
   "outputs": [
    {
     "name": "stdout",
     "output_type": "stream",
     "text": [
      "     A    B\n",
      "1  2.0  2.0\n",
      "3  4.0  4.0\n"
     ]
    }
   ],
   "source": [
    "import pandas as pd\n",
    "\n",
    "# Sample DataFrame\n",
    "df = pd.DataFrame({\n",
    "    'A': [1, 2, None, 4],\n",
    "    'B': [None, 2, 3, 4]\n",
    "})\n",
    "\n",
    "# Drop rows with any missing values\n",
    "df_dropped = df.dropna()\n",
    "print(df_dropped)\n"
   ]
  },
  {
   "cell_type": "code",
   "execution_count": 2,
   "id": "30f4dbb5",
   "metadata": {},
   "outputs": [
    {
     "name": "stdout",
     "output_type": "stream",
     "text": [
      "Empty DataFrame\n",
      "Columns: []\n",
      "Index: [0, 1, 2, 3]\n"
     ]
    }
   ],
   "source": [
    "# Drop columns with any missing values\n",
    "df_dropped_columns = df.dropna(axis=1)\n",
    "print(df_dropped_columns)"
   ]
  },
  {
   "cell_type": "code",
   "execution_count": 3,
   "id": "188b4062",
   "metadata": {},
   "outputs": [],
   "source": [
    "## Imputation with Mean/Median/Mode"
   ]
  },
  {
   "cell_type": "code",
   "execution_count": 5,
   "id": "6580e52f",
   "metadata": {},
   "outputs": [],
   "source": [
    "from sklearn.impute import SimpleImputer\n",
    "\n",
    "# Impute missing values with the mean\n",
    "imputer = SimpleImputer(strategy='mean')\n",
    "df_imputed = pd.DataFrame(imputer.fit_transform(df), columns=df.columns)"
   ]
  },
  {
   "cell_type": "code",
   "execution_count": 6,
   "id": "eea586c2",
   "metadata": {},
   "outputs": [
    {
     "data": {
      "text/html": [
       "<div>\n",
       "<style scoped>\n",
       "    .dataframe tbody tr th:only-of-type {\n",
       "        vertical-align: middle;\n",
       "    }\n",
       "\n",
       "    .dataframe tbody tr th {\n",
       "        vertical-align: top;\n",
       "    }\n",
       "\n",
       "    .dataframe thead th {\n",
       "        text-align: right;\n",
       "    }\n",
       "</style>\n",
       "<table border=\"1\" class=\"dataframe\">\n",
       "  <thead>\n",
       "    <tr style=\"text-align: right;\">\n",
       "      <th></th>\n",
       "      <th>A</th>\n",
       "      <th>B</th>\n",
       "    </tr>\n",
       "  </thead>\n",
       "  <tbody>\n",
       "    <tr>\n",
       "      <th>0</th>\n",
       "      <td>1.000000</td>\n",
       "      <td>3.0</td>\n",
       "    </tr>\n",
       "    <tr>\n",
       "      <th>1</th>\n",
       "      <td>2.000000</td>\n",
       "      <td>2.0</td>\n",
       "    </tr>\n",
       "    <tr>\n",
       "      <th>2</th>\n",
       "      <td>2.333333</td>\n",
       "      <td>3.0</td>\n",
       "    </tr>\n",
       "    <tr>\n",
       "      <th>3</th>\n",
       "      <td>4.000000</td>\n",
       "      <td>4.0</td>\n",
       "    </tr>\n",
       "  </tbody>\n",
       "</table>\n",
       "</div>"
      ],
      "text/plain": [
       "          A    B\n",
       "0  1.000000  3.0\n",
       "1  2.000000  2.0\n",
       "2  2.333333  3.0\n",
       "3  4.000000  4.0"
      ]
     },
     "execution_count": 6,
     "metadata": {},
     "output_type": "execute_result"
    }
   ],
   "source": [
    "df_imputed"
   ]
  },
  {
   "cell_type": "code",
   "execution_count": 7,
   "id": "de653996",
   "metadata": {},
   "outputs": [],
   "source": [
    "# Impute missing values with the median\n",
    "imputer = SimpleImputer(strategy='median')\n",
    "df_imputed_median = pd.DataFrame(imputer.fit_transform(df), columns=df.columns)"
   ]
  },
  {
   "cell_type": "code",
   "execution_count": 8,
   "id": "a046f0b1",
   "metadata": {},
   "outputs": [
    {
     "data": {
      "text/html": [
       "<div>\n",
       "<style scoped>\n",
       "    .dataframe tbody tr th:only-of-type {\n",
       "        vertical-align: middle;\n",
       "    }\n",
       "\n",
       "    .dataframe tbody tr th {\n",
       "        vertical-align: top;\n",
       "    }\n",
       "\n",
       "    .dataframe thead th {\n",
       "        text-align: right;\n",
       "    }\n",
       "</style>\n",
       "<table border=\"1\" class=\"dataframe\">\n",
       "  <thead>\n",
       "    <tr style=\"text-align: right;\">\n",
       "      <th></th>\n",
       "      <th>A</th>\n",
       "      <th>B</th>\n",
       "    </tr>\n",
       "  </thead>\n",
       "  <tbody>\n",
       "    <tr>\n",
       "      <th>0</th>\n",
       "      <td>1.0</td>\n",
       "      <td>3.0</td>\n",
       "    </tr>\n",
       "    <tr>\n",
       "      <th>1</th>\n",
       "      <td>2.0</td>\n",
       "      <td>2.0</td>\n",
       "    </tr>\n",
       "    <tr>\n",
       "      <th>2</th>\n",
       "      <td>2.0</td>\n",
       "      <td>3.0</td>\n",
       "    </tr>\n",
       "    <tr>\n",
       "      <th>3</th>\n",
       "      <td>4.0</td>\n",
       "      <td>4.0</td>\n",
       "    </tr>\n",
       "  </tbody>\n",
       "</table>\n",
       "</div>"
      ],
      "text/plain": [
       "     A    B\n",
       "0  1.0  3.0\n",
       "1  2.0  2.0\n",
       "2  2.0  3.0\n",
       "3  4.0  4.0"
      ]
     },
     "execution_count": 8,
     "metadata": {},
     "output_type": "execute_result"
    }
   ],
   "source": [
    "df_imputed_median"
   ]
  },
  {
   "cell_type": "code",
   "execution_count": 9,
   "id": "a2185099",
   "metadata": {},
   "outputs": [],
   "source": [
    "# Impute missing values with the mode\n",
    "imputer = SimpleImputer(strategy='most_frequent')\n",
    "df_imputed_mode = pd.DataFrame(imputer.fit_transform(df), columns=df.columns)"
   ]
  },
  {
   "cell_type": "code",
   "execution_count": 10,
   "id": "bf8ed250",
   "metadata": {},
   "outputs": [
    {
     "data": {
      "text/html": [
       "<div>\n",
       "<style scoped>\n",
       "    .dataframe tbody tr th:only-of-type {\n",
       "        vertical-align: middle;\n",
       "    }\n",
       "\n",
       "    .dataframe tbody tr th {\n",
       "        vertical-align: top;\n",
       "    }\n",
       "\n",
       "    .dataframe thead th {\n",
       "        text-align: right;\n",
       "    }\n",
       "</style>\n",
       "<table border=\"1\" class=\"dataframe\">\n",
       "  <thead>\n",
       "    <tr style=\"text-align: right;\">\n",
       "      <th></th>\n",
       "      <th>A</th>\n",
       "      <th>B</th>\n",
       "    </tr>\n",
       "  </thead>\n",
       "  <tbody>\n",
       "    <tr>\n",
       "      <th>0</th>\n",
       "      <td>1.0</td>\n",
       "      <td>2.0</td>\n",
       "    </tr>\n",
       "    <tr>\n",
       "      <th>1</th>\n",
       "      <td>2.0</td>\n",
       "      <td>2.0</td>\n",
       "    </tr>\n",
       "    <tr>\n",
       "      <th>2</th>\n",
       "      <td>1.0</td>\n",
       "      <td>3.0</td>\n",
       "    </tr>\n",
       "    <tr>\n",
       "      <th>3</th>\n",
       "      <td>4.0</td>\n",
       "      <td>4.0</td>\n",
       "    </tr>\n",
       "  </tbody>\n",
       "</table>\n",
       "</div>"
      ],
      "text/plain": [
       "     A    B\n",
       "0  1.0  2.0\n",
       "1  2.0  2.0\n",
       "2  1.0  3.0\n",
       "3  4.0  4.0"
      ]
     },
     "execution_count": 10,
     "metadata": {},
     "output_type": "execute_result"
    }
   ],
   "source": [
    "df_imputed_mode"
   ]
  },
  {
   "cell_type": "code",
   "execution_count": 11,
   "id": "7ca261ea",
   "metadata": {},
   "outputs": [],
   "source": [
    "## Imputation with Forward Fill/Backward Fill"
   ]
  },
  {
   "cell_type": "code",
   "execution_count": 13,
   "id": "5630c7b5",
   "metadata": {},
   "outputs": [],
   "source": [
    "# Forward fill missing values\n",
    "df_filled = df.fillna(method='ffill')"
   ]
  },
  {
   "cell_type": "code",
   "execution_count": 14,
   "id": "4c4fd3db",
   "metadata": {},
   "outputs": [
    {
     "data": {
      "text/html": [
       "<div>\n",
       "<style scoped>\n",
       "    .dataframe tbody tr th:only-of-type {\n",
       "        vertical-align: middle;\n",
       "    }\n",
       "\n",
       "    .dataframe tbody tr th {\n",
       "        vertical-align: top;\n",
       "    }\n",
       "\n",
       "    .dataframe thead th {\n",
       "        text-align: right;\n",
       "    }\n",
       "</style>\n",
       "<table border=\"1\" class=\"dataframe\">\n",
       "  <thead>\n",
       "    <tr style=\"text-align: right;\">\n",
       "      <th></th>\n",
       "      <th>A</th>\n",
       "      <th>B</th>\n",
       "    </tr>\n",
       "  </thead>\n",
       "  <tbody>\n",
       "    <tr>\n",
       "      <th>0</th>\n",
       "      <td>1.0</td>\n",
       "      <td>NaN</td>\n",
       "    </tr>\n",
       "    <tr>\n",
       "      <th>1</th>\n",
       "      <td>2.0</td>\n",
       "      <td>2.0</td>\n",
       "    </tr>\n",
       "    <tr>\n",
       "      <th>2</th>\n",
       "      <td>2.0</td>\n",
       "      <td>3.0</td>\n",
       "    </tr>\n",
       "    <tr>\n",
       "      <th>3</th>\n",
       "      <td>4.0</td>\n",
       "      <td>4.0</td>\n",
       "    </tr>\n",
       "  </tbody>\n",
       "</table>\n",
       "</div>"
      ],
      "text/plain": [
       "     A    B\n",
       "0  1.0  NaN\n",
       "1  2.0  2.0\n",
       "2  2.0  3.0\n",
       "3  4.0  4.0"
      ]
     },
     "execution_count": 14,
     "metadata": {},
     "output_type": "execute_result"
    }
   ],
   "source": [
    "df_filled"
   ]
  },
  {
   "cell_type": "code",
   "execution_count": 16,
   "id": "ebe5d80a",
   "metadata": {},
   "outputs": [],
   "source": [
    "# Backward fill missing values\n",
    "df_filled_bfill = df.fillna(method='bfill')"
   ]
  },
  {
   "cell_type": "code",
   "execution_count": 17,
   "id": "4952c9e6",
   "metadata": {},
   "outputs": [
    {
     "data": {
      "text/html": [
       "<div>\n",
       "<style scoped>\n",
       "    .dataframe tbody tr th:only-of-type {\n",
       "        vertical-align: middle;\n",
       "    }\n",
       "\n",
       "    .dataframe tbody tr th {\n",
       "        vertical-align: top;\n",
       "    }\n",
       "\n",
       "    .dataframe thead th {\n",
       "        text-align: right;\n",
       "    }\n",
       "</style>\n",
       "<table border=\"1\" class=\"dataframe\">\n",
       "  <thead>\n",
       "    <tr style=\"text-align: right;\">\n",
       "      <th></th>\n",
       "      <th>A</th>\n",
       "      <th>B</th>\n",
       "    </tr>\n",
       "  </thead>\n",
       "  <tbody>\n",
       "    <tr>\n",
       "      <th>0</th>\n",
       "      <td>1.0</td>\n",
       "      <td>2.0</td>\n",
       "    </tr>\n",
       "    <tr>\n",
       "      <th>1</th>\n",
       "      <td>2.0</td>\n",
       "      <td>2.0</td>\n",
       "    </tr>\n",
       "    <tr>\n",
       "      <th>2</th>\n",
       "      <td>4.0</td>\n",
       "      <td>3.0</td>\n",
       "    </tr>\n",
       "    <tr>\n",
       "      <th>3</th>\n",
       "      <td>4.0</td>\n",
       "      <td>4.0</td>\n",
       "    </tr>\n",
       "  </tbody>\n",
       "</table>\n",
       "</div>"
      ],
      "text/plain": [
       "     A    B\n",
       "0  1.0  2.0\n",
       "1  2.0  2.0\n",
       "2  4.0  3.0\n",
       "3  4.0  4.0"
      ]
     },
     "execution_count": 17,
     "metadata": {},
     "output_type": "execute_result"
    }
   ],
   "source": [
    "df_filled_bfill"
   ]
  },
  {
   "cell_type": "markdown",
   "id": "eccc5d8f",
   "metadata": {},
   "source": [
    "### Q3: Explain the imbalanced data. What will happen if imbalanced data is not handled?"
   ]
  },
  {
   "cell_type": "markdown",
   "id": "95103e17",
   "metadata": {},
   "source": [
    "Dataset where we will be having more number of positive class datapoints as compared to negative class. For example 900 datapoints in positive class and 100 datapoints in negative class\n",
    "\n",
    "Problem- Model will get biased towards positive class as it will see more data for positive class"
   ]
  },
  {
   "cell_type": "markdown",
   "id": "2bd4521d",
   "metadata": {},
   "source": [
    "### Q4: What are Up-sampling and Down-sampling? Explain with an example when up-sampling and down-sampling are required."
   ]
  },
  {
   "cell_type": "markdown",
   "id": "6ffa04ec",
   "metadata": {},
   "source": [
    "Upsampling Techniques are the techniques where we create some artificial datapoints for the minority class. Here we use resampling technique from sk learn. It create new datapoints for the minority class\n",
    "\n",
    "DownSampling techniques are the techniques where we remove datapoints from the majority class. So that no of datapoints are equal in both upsampling and downsampling techniques.\n",
    "\n",
    "We majorly prefer upsampling as we loose lot of data in down sampling techniques\n",
    "\n",
    "technique used for Upsampling- SMOTE"
   ]
  },
  {
   "cell_type": "markdown",
   "id": "ce85109a",
   "metadata": {},
   "source": [
    "### Q5: What is data Augmentation? Explain SMOTE."
   ]
  },
  {
   "cell_type": "markdown",
   "id": "1320e0d1",
   "metadata": {},
   "source": [
    "Data augmentation is a technique used to increase the diversity and quantity of training data without actually collecting new data."
   ]
  },
  {
   "cell_type": "markdown",
   "id": "9c83b125",
   "metadata": {},
   "source": [
    "SMOTE is an updampling technique (Synthetic Minority Oversampling Techniques). It is used to adddress the imbalanced dataset where minority class has significantly fewer instances than majority class. SMOTE tries to join 2 nearesr data points and try to add datapoinrs between those 2 nearest datapoints"
   ]
  },
  {
   "cell_type": "markdown",
   "id": "a7c2428c",
   "metadata": {},
   "source": [
    "### Q6: What are outliers in a dataset? Why is it essential to handle outliers?\n",
    "\n",
    "Outliers are data points that significantly deviate from the rest of the dataset, either being much higher or lower than the majority of the data.\n",
    "\n",
    "### Importance of Handling Outliers:\n",
    "1. **Improved Model Performance**: Outliers can distort model training, leading to poor generalization and inaccurate predictions.\n",
    "2. **Accurate Statistical Measures**: Outliers can skew mean, variance, and other statistical measures, leading to misleading interpretations.\n",
    "3. **Robust Analysis**: Handling outliers ensures that analyses and models reflect the true characteristics of the data.\n",
    "\n",
    "Handling outliers is essential to maintain the integrity and accuracy of data analysis and machine learning models."
   ]
  },
  {
   "cell_type": "markdown",
   "id": "dc5c1ea8",
   "metadata": {},
   "source": [
    "### Q7: You are working on a project that requires analyzing customer data. However, you notice that some of the data is missing. What are some techniques you can use to handle the missing data in your analysis?"
   ]
  },
  {
   "cell_type": "markdown",
   "id": "5cb99d38",
   "metadata": {},
   "source": [
    "Delete rows and Data points: Easiest but will loose lot of data\n",
    "\n",
    "Delete columns which has NaN values\n",
    "\n",
    "Imputation missing techniques\n",
    "1. Mean value impuation- Plot histograms, KDE and check how data is plotted. Replace NaN with mean. it works well when we have normally distributed data points\n",
    "\n",
    "2. Median Value Imputation: It is used if we have outliers in our dataset\n",
    "3. Mode value Imputation: It can be used in categorical variables\n",
    "4. Random Sample Imputation"
   ]
  },
  {
   "cell_type": "markdown",
   "id": "fc8cada7",
   "metadata": {},
   "source": [
    "### Q8: You are working with a large dataset and find that a small percentage of the data is missing. What are some strategies you can use to determine if the missing data is missing at random or if there is a pattern to the missing data?"
   ]
  },
  {
   "cell_type": "markdown",
   "id": "5657ab5f",
   "metadata": {},
   "source": [
    "To determine if missing data is missing at random (MAR) or if there is a pattern, you can use the following strategies:\n",
    "\n",
    "Visual Inspection\n",
    "\n",
    "Statistical Tests\n",
    "\n",
    "Correlation Analysis\n"
   ]
  },
  {
   "cell_type": "markdown",
   "id": "0a55b275",
   "metadata": {},
   "source": [
    "### Q9: Suppose you are working on a medical diagnosis project and find that the majority of patients in the dataset do not have the condition of interest, while a small percentage do. What are some strategies youcan use to evaluate the performance of your machine learning model on this imbalanced dataset?To evaluate the performance of a machine learning model on an imbalanced dataset, we can use the following strategies:\n",
    "\n",
    "Use Appropriate Metrics:\n",
    "\n",
    "Precision and Recall: Evaluate how well the model identifies positive cases.\n",
    "F1-Score: Balance between precision and recall.\n",
    "ROC-AUC: Assess the trade-off between true positive rate and false positive rate.\n",
    "Precision-Recall AUC: More informative than ROC-AUC for imbalanced datasets.\n",
    "Confusion Matrix\n",
    "Cross-Validation with Stratified Sampling\n",
    "Adjust Class Weights"
   ]
  },
  {
   "cell_type": "code",
   "execution_count": null,
   "id": "4e9fe919",
   "metadata": {},
   "outputs": [],
   "source": []
  }
 ],
 "metadata": {
  "kernelspec": {
   "display_name": "Python 3 (ipykernel)",
   "language": "python",
   "name": "python3"
  },
  "language_info": {
   "codemirror_mode": {
    "name": "ipython",
    "version": 3
   },
   "file_extension": ".py",
   "mimetype": "text/x-python",
   "name": "python",
   "nbconvert_exporter": "python",
   "pygments_lexer": "ipython3",
   "version": "3.9.12"
  }
 },
 "nbformat": 4,
 "nbformat_minor": 5
}
