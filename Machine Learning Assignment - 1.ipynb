{
 "cells": [
  {
   "cell_type": "markdown",
   "id": "e40a4bcc",
   "metadata": {},
   "source": [
    "### Q1: Define the following with an example:\n",
    "\n",
    "\n",
    "A) Artificial Intelligence (AI)\n",
    "Artificial Intelligence refers to the simulation of human intelligence in machines designed to think and act like humans. This includes problem-solving, learning, and understanding language.\n",
    "\n",
    "Example: AI can be seen in virtual assistants like Siri or Alexa, which can perform tasks, answer questions, and control smart devices through voice commands.\n",
    "\n",
    "B) Machine Learning (ML)\n",
    "Machine Learning is a subset of AI focused on building systems that learn from data to improve their performance over time without being explicitly programmed.\n",
    "\n",
    "Example: Spam filters in email systems use machine learning to identify and move unwanted emails to the spam folder by learning from examples of spam emails.\n",
    "\n",
    "C) Deep Learning (DL)\n",
    "Deep Learning is a subset of machine learning that uses neural networks with many layers (deep neural networks) to analyze various factors of data. It is particularly effective for large and complex datasets.\n",
    "\n",
    "Example: Deep learning is used in image recognition systems, such as those used by Facebook to automatically tag friends in photos."
   ]
  },
  {
   "cell_type": "markdown",
   "id": "a42f699d",
   "metadata": {},
   "source": [
    "### Q2: What is supervised learning? List some examples of supervised learning.\n",
    "\n",
    "\n",
    "Supervised learning is a type of machine learning where the model is trained on labeled data, meaning the input data is paired with the correct output.\n",
    "\n",
    "Examples of supervised learning:\n",
    "\n",
    "Regression: Predicting house prices based on features like location, size, and age.\n",
    "Classification: Email spam detection, where emails are classified as 'spam' or 'not spam'.\n",
    "Object Detection: Identifying objects within images, such as detecting pedestrians in self-driving car technology."
   ]
  },
  {
   "cell_type": "markdown",
   "id": "d796c29b",
   "metadata": {},
   "source": [
    "### Q3: What is unsupervised learning? List some examples of unsupervised learning.\n",
    "\n",
    "Unsupervised learning is a type of machine learning where the model is trained on data without labeled responses. The system tries to learn the patterns and the structure from the data.\n",
    "\n",
    "Examples of unsupervised learning:\n",
    "\n",
    "Clustering: Grouping customers based on purchasing behavior for market segmentation.\n",
    "Association: Identifying items that frequently co-occur in transaction data, like in market basket analysis.\n",
    "Dimensionality Reduction: Reducing the number of variables under consideration, e.g., Principal Component Analysis (PCA)."
   ]
  },
  {
   "cell_type": "markdown",
   "id": "f212d62b",
   "metadata": {},
   "source": [
    "### Q4: What is the difference between AI, ML, DL, and DS?\n",
    "\n",
    "AI (Artificial Intelligence): The broad field of creating smart machines capable of performing tasks that typically require human intelligence.\n",
    "\n",
    "ML (Machine Learning): A subset of AI that involves the development of algorithms that allow computers to learn from and make predictions based on data.\n",
    "\n",
    "DL (Deep Learning): A subset of ML that uses deep neural networks with many layers to analyze complex patterns in data.\n",
    "\n",
    "DS (Data Science): An interdisciplinary field that uses scientific methods, processes, algorithms, and systems to extract knowledge and insights from structured and unstructured data."
   ]
  },
  {
   "cell_type": "markdown",
   "id": "533197d2",
   "metadata": {},
   "source": [
    "#### Q5: What are the main differences between supervised, unsupervised, and semi-supervised learning?\n",
    "\n",
    "Supervised Learning: Uses labeled data to train the model. Each training example is paired with an output label.\n",
    "\n",
    "Unsupervised Learning: Uses unlabeled data. The model tries to learn the structure and patterns from the input data without any explicit output labels.\n",
    "\n",
    "Semi-Supervised Learning: Uses a combination of a small amount of labeled data and a large amount of unlabeled data. This approach can be more cost-effective and still produce accurate models."
   ]
  },
  {
   "cell_type": "markdown",
   "id": "2bac1647",
   "metadata": {},
   "source": [
    "### Q6: What is train, test, and validation split? Explain the importance of each term.\n",
    "\n",
    "Training Set: The subset of the dataset used to train the model. The model learns from this data.\n",
    "\n",
    "Validation Set: The subset of the dataset used to tune the model's hyperparameters and prevent overfitting. It helps in model selection.\n",
    "\n",
    "Test Set: The subset of the dataset used to evaluate the final model's performance. It provides an unbiased evaluation of the model's accuracy.\n",
    "Importance:\n",
    "\n",
    "Training: Enables the model to learn from the data.\n",
    "\n",
    "Validation: Helps fine-tune the model to improve its performance on unseen data.\n",
    "\n",
    "Testing: Assesses the model’s generalization to new data, ensuring it performs well in real-world scenarios."
   ]
  },
  {
   "cell_type": "markdown",
   "id": "f9e0df83",
   "metadata": {},
   "source": [
    "### Q7: How can unsupervised learning be used in anomaly detection?\n",
    "\n",
    "Unsupervised learning can detect anomalies by identifying patterns in the data and finding instances that deviate significantly from these patterns. Common methods include:\n",
    "\n",
    "Clustering Algorithms (e.g., K-means): Group normal data points into clusters, and data points that do not fit well into any cluster are considered anomalies.\n",
    "\n",
    "Dimensionality Reduction (e.g., PCA): Reducing data dimensions to identify outliers that don't conform to the general data distribution."
   ]
  },
  {
   "cell_type": "markdown",
   "id": "50976480",
   "metadata": {},
   "source": [
    "### Q8: List down some commonly used supervised learning algorithms and unsupervised learning algorithms.\n",
    "\n",
    "#### Supervised Learning Algorithms:\n",
    "\n",
    "Linear Regression: For predicting continuous values.\n",
    "\n",
    "Logistic Regression: For binary classification problems.\n",
    "\n",
    "Decision Trees: For classification and regression tasks.\n",
    "\n",
    "Support Vector Machines (SVM): For classification tasks.\n",
    "\n",
    "Random Forest: An ensemble method for classification and regression.\n",
    "\n",
    "Neural Networks: For complex tasks like image and speech recognition.\n",
    "\n",
    "#### Unsupervised Learning Algorithms:\n",
    "\n",
    "K-means Clustering: For partitioning data into k clusters.\n",
    "\n",
    "Hierarchical Clustering: For creating a hierarchy of clusters.\n",
    "\n",
    "Principal Component Analysis (PCA): For dimensionality reduction."
   ]
  },
  {
   "cell_type": "code",
   "execution_count": null,
   "id": "f4a47d1f",
   "metadata": {},
   "outputs": [],
   "source": []
  }
 ],
 "metadata": {
  "kernelspec": {
   "display_name": "Python 3 (ipykernel)",
   "language": "python",
   "name": "python3"
  },
  "language_info": {
   "codemirror_mode": {
    "name": "ipython",
    "version": 3
   },
   "file_extension": ".py",
   "mimetype": "text/x-python",
   "name": "python",
   "nbconvert_exporter": "python",
   "pygments_lexer": "ipython3",
   "version": "3.9.12"
  }
 },
 "nbformat": 4,
 "nbformat_minor": 5
}
