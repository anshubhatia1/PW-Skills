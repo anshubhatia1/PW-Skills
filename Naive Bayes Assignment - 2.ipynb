{
 "cells": [
  {
   "cell_type": "markdown",
   "id": "0ec56bc4-c7e0-40d0-aee1-f8dd5d3d7468",
   "metadata": {},
   "source": [
    "### Q2. What is the difference between Bernoulli Naive Bayes and Multinomial Naive Bayes?\n",
    "\n",
    "The main differences between Bernoulli Naive Bayes and Multinomial Naive Bayes lie in how they handle the feature values and the type of data they are suited for:\n",
    "\n",
    "- **Bernoulli Naive Bayes**:\n",
    "  - **Feature Type**: Designed for binary/boolean features. It assumes that each feature is either present or absent.\n",
    "  - **Data Representation**: Features are represented as 0 or 1 (e.g., whether a word is present or not in a document).\n",
    "  - **Use Case**: Often used for text classification problems where the presence or absence of a word is more relevant than its frequency (e.g., document classification).\n",
    "\n",
    "- **Multinomial Naive Bayes**:\n",
    "  - **Feature Type**: Designed for count data or frequency data. It assumes that features represent the number of times an event occurs.\n",
    "  - **Data Representation**: Features are represented as counts (e.g., the number of times a word appears in a document).\n",
    "  - **Use Case**: Commonly used for text classification problems where the frequency of words is important (e.g., spam detection).\n",
    "\n",
    "### Q3. How does Bernoulli Naive Bayes handle missing values?\n",
    "\n",
    "Bernoulli Naive Bayes assumes that missing values are not present and does not handle them directly. In practice, if a feature value is missing, it is typically treated as if the feature is not present (i.e., assumed to be 0). However, this can lead to loss of information or biases in the model. To handle missing values more robustly, you might need to use imputation techniques or preprocess the data to fill in or manage missing values before applying the Bernoulli Naive Bayes classifier.\n",
    "\n",
    "### Q4. Can Gaussian Naive Bayes be used for multi-class classification?\n",
    "\n",
    "Yes, Gaussian Naive Bayes can be used for multi-class classification. It is a general-purpose Naive Bayes classifier that assumes features follow a Gaussian (normal) distribution. The classifier can handle multiple classes by estimating the parameters (mean and variance) for each feature within each class and applying Bayes' theorem to classify new data points. The process involves calculating the posterior probability for each class and selecting the class with the highest probability as the predicted label."
   ]
  },
  {
   "cell_type": "code",
   "execution_count": 3,
   "id": "150f58a9-59de-482c-9896-2f6243dffdbd",
   "metadata": {},
   "outputs": [
    {
     "name": "stdout",
     "output_type": "stream",
     "text": [
      "Collecting ucimlrepo\n",
      "  Downloading ucimlrepo-0.0.7-py3-none-any.whl.metadata (5.5 kB)\n",
      "Requirement already satisfied: pandas>=1.0.0 in c:\\users\\hp\\anaconda3\\lib\\site-packages (from ucimlrepo) (2.2.2)\n",
      "Requirement already satisfied: certifi>=2020.12.5 in c:\\users\\hp\\anaconda3\\lib\\site-packages (from ucimlrepo) (2024.7.4)\n",
      "Requirement already satisfied: numpy>=1.26.0 in c:\\users\\hp\\appdata\\roaming\\python\\python312\\site-packages (from pandas>=1.0.0->ucimlrepo) (1.26.3)\n",
      "Requirement already satisfied: python-dateutil>=2.8.2 in c:\\users\\hp\\anaconda3\\lib\\site-packages (from pandas>=1.0.0->ucimlrepo) (2.9.0.post0)\n",
      "Requirement already satisfied: pytz>=2020.1 in c:\\users\\hp\\anaconda3\\lib\\site-packages (from pandas>=1.0.0->ucimlrepo) (2024.1)\n",
      "Requirement already satisfied: tzdata>=2022.7 in c:\\users\\hp\\anaconda3\\lib\\site-packages (from pandas>=1.0.0->ucimlrepo) (2023.3)\n",
      "Requirement already satisfied: six>=1.5 in c:\\users\\hp\\anaconda3\\lib\\site-packages (from python-dateutil>=2.8.2->pandas>=1.0.0->ucimlrepo) (1.16.0)\n",
      "Downloading ucimlrepo-0.0.7-py3-none-any.whl (8.0 kB)\n",
      "Installing collected packages: ucimlrepo\n",
      "Successfully installed ucimlrepo-0.0.7\n",
      "Note: you may need to restart the kernel to use updated packages.\n"
     ]
    }
   ],
   "source": [
    "pip install ucimlrepo"
   ]
  },
  {
   "cell_type": "code",
   "execution_count": 7,
   "id": "4f16054d-c79c-4f08-bc4e-d1e1b7a2be46",
   "metadata": {},
   "outputs": [],
   "source": [
    "from ucimlrepo import fetch_ucirepo \n",
    "  \n",
    "# fetch dataset \n",
    "spambase = fetch_ucirepo(id=94) \n",
    "  \n",
    "# data (as pandas dataframes) \n",
    "X = spambase.data.features \n",
    "y = spambase.data.targets "
   ]
  },
  {
   "cell_type": "code",
   "execution_count": 119,
   "id": "e467e884-b76a-4717-ae19-c35210a41e34",
   "metadata": {},
   "outputs": [],
   "source": [
    "import warnings\n",
    "\n",
    "# Ignore all warnings (not recommended unless you're sure)\n",
    "warnings.filterwarnings(\"ignore\")"
   ]
  },
  {
   "cell_type": "code",
   "execution_count": 133,
   "id": "8a2ef3c9-1bbe-4ede-b509-7e8d8eb7c251",
   "metadata": {},
   "outputs": [],
   "source": [
    "import pandas as pd\n",
    "import numpy as np\n",
    "import seaborn as sns\n",
    "from sklearn.preprocessing import StandardScaler\n",
    "from sklearn.naive_bayes import BernoulliNB\n",
    "from sklearn.naive_bayes import GaussianNB\n",
    "from sklearn.naive_bayes import MultinomialNB\n",
    "from sklearn.model_selection import train_test_split\n",
    "from sklearn.model_selection import KFold\n",
    "from sklearn.model_selection import cross_val_score"
   ]
  },
  {
   "cell_type": "code",
   "execution_count": 61,
   "id": "87d99aff-d5d2-4047-a463-2252841b715b",
   "metadata": {},
   "outputs": [],
   "source": [
    "X_train, X_test, y_train, y_test = train_test_split(X, y, test_size = 0.3, random_state = 0)"
   ]
  },
  {
   "cell_type": "code",
   "execution_count": 15,
   "id": "17292c25-6a6b-43de-a7b6-fbf1554302ed",
   "metadata": {},
   "outputs": [],
   "source": [
    "b_nb = BernoulliNB()"
   ]
  },
  {
   "cell_type": "code",
   "execution_count": 59,
   "id": "30fc977b-669e-43ba-ab9e-7396450ff467",
   "metadata": {},
   "outputs": [],
   "source": [
    "cv = KFold(n_splits= 10, random_state = 42, shuffle= True)"
   ]
  },
  {
   "cell_type": "code",
   "execution_count": 65,
   "id": "a21be187-cfbc-4dbd-82e4-c8fbdf78871a",
   "metadata": {},
   "outputs": [
    {
     "name": "stderr",
     "output_type": "stream",
     "text": [
      "C:\\Users\\HP\\anaconda3\\Lib\\site-packages\\sklearn\\utils\\validation.py:1300: DataConversionWarning: A column-vector y was passed when a 1d array was expected. Please change the shape of y to (n_samples, ), for example using ravel().\n",
      "  y = column_or_1d(y, warn=True)\n",
      "C:\\Users\\HP\\anaconda3\\Lib\\site-packages\\sklearn\\utils\\validation.py:1300: DataConversionWarning: A column-vector y was passed when a 1d array was expected. Please change the shape of y to (n_samples, ), for example using ravel().\n",
      "  y = column_or_1d(y, warn=True)\n",
      "C:\\Users\\HP\\anaconda3\\Lib\\site-packages\\sklearn\\utils\\validation.py:1300: DataConversionWarning: A column-vector y was passed when a 1d array was expected. Please change the shape of y to (n_samples, ), for example using ravel().\n",
      "  y = column_or_1d(y, warn=True)\n",
      "C:\\Users\\HP\\anaconda3\\Lib\\site-packages\\sklearn\\utils\\validation.py:1300: DataConversionWarning: A column-vector y was passed when a 1d array was expected. Please change the shape of y to (n_samples, ), for example using ravel().\n",
      "  y = column_or_1d(y, warn=True)\n",
      "C:\\Users\\HP\\anaconda3\\Lib\\site-packages\\sklearn\\utils\\validation.py:1300: DataConversionWarning: A column-vector y was passed when a 1d array was expected. Please change the shape of y to (n_samples, ), for example using ravel().\n",
      "  y = column_or_1d(y, warn=True)\n",
      "C:\\Users\\HP\\anaconda3\\Lib\\site-packages\\sklearn\\utils\\validation.py:1300: DataConversionWarning: A column-vector y was passed when a 1d array was expected. Please change the shape of y to (n_samples, ), for example using ravel().\n",
      "  y = column_or_1d(y, warn=True)\n",
      "C:\\Users\\HP\\anaconda3\\Lib\\site-packages\\sklearn\\utils\\validation.py:1300: DataConversionWarning: A column-vector y was passed when a 1d array was expected. Please change the shape of y to (n_samples, ), for example using ravel().\n",
      "  y = column_or_1d(y, warn=True)\n",
      "C:\\Users\\HP\\anaconda3\\Lib\\site-packages\\sklearn\\utils\\validation.py:1300: DataConversionWarning: A column-vector y was passed when a 1d array was expected. Please change the shape of y to (n_samples, ), for example using ravel().\n",
      "  y = column_or_1d(y, warn=True)\n",
      "C:\\Users\\HP\\anaconda3\\Lib\\site-packages\\sklearn\\utils\\validation.py:1300: DataConversionWarning: A column-vector y was passed when a 1d array was expected. Please change the shape of y to (n_samples, ), for example using ravel().\n",
      "  y = column_or_1d(y, warn=True)\n",
      "C:\\Users\\HP\\anaconda3\\Lib\\site-packages\\sklearn\\utils\\validation.py:1300: DataConversionWarning: A column-vector y was passed when a 1d array was expected. Please change the shape of y to (n_samples, ), for example using ravel().\n",
      "  y = column_or_1d(y, warn=True)\n"
     ]
    }
   ],
   "source": [
    "scores = cross_val_score(b_nb,X_train, y_train,cv= cv, scoring= \"accuracy\")"
   ]
  },
  {
   "cell_type": "code",
   "execution_count": 67,
   "id": "fbe3d235-b75c-4b5d-84b0-9292a735b3e6",
   "metadata": {},
   "outputs": [
    {
     "name": "stdout",
     "output_type": "stream",
     "text": [
      "0.8888198757763975 0.016362658226483837\n"
     ]
    }
   ],
   "source": [
    "print(scores.mean(), scores.std())"
   ]
  },
  {
   "cell_type": "code",
   "execution_count": 109,
   "id": "61942577-02d2-4c02-a224-dcb4ddaf740c",
   "metadata": {},
   "outputs": [],
   "source": [
    "import copy as cp\n",
    "from typing import Tuple\n",
    "from sklearn.metrics import confusion_matrix, classification_report\n",
    "import matplotlib.pyplot as plt"
   ]
  },
  {
   "cell_type": "code",
   "execution_count": 121,
   "id": "bd7d25fa-999d-4a40-870a-ae5ddc5c0070",
   "metadata": {},
   "outputs": [],
   "source": [
    "def cross_val_predict(model, kfold : cv, X : np.array, y : np.array) -> Tuple[np.array, np.array, np.array]:\n",
    "\n",
    "    model_ = cp.deepcopy(model)\n",
    "    \n",
    "    no_classes = len(np.unique(y))\n",
    "    \n",
    "    actual_classes = np.empty([0], dtype=int)\n",
    "    predicted_classes = np.empty([0], dtype=int)\n",
    "    predicted_proba = np.empty([0, no_classes]) \n",
    "\n",
    "    for train_ndx, test_ndx in kfold.split(X):\n",
    "\n",
    "        train_X, train_y, test_X, test_y = X[train_ndx], y[train_ndx], X[test_ndx], y[test_ndx]\n",
    "\n",
    "        actual_classes = np.append(actual_classes, test_y)\n",
    "\n",
    "        model_.fit(train_X, train_y)\n",
    "        predicted_classes = np.append(predicted_classes, model_.predict(test_X))\n",
    "\n",
    "        try:\n",
    "            predicted_proba = np.append(predicted_proba, model_.predict_proba(test_X), axis=0)\n",
    "        except:\n",
    "            predicted_proba = np.append(predicted_proba, np.zeros((len(test_X), no_classes), dtype=float), axis=0)\n",
    "\n",
    "    return actual_classes, predicted_classes, predicted_proba"
   ]
  },
  {
   "cell_type": "code",
   "execution_count": 123,
   "id": "e02a86db-45fe-4e59-964e-0f9da82a1a11",
   "metadata": {},
   "outputs": [],
   "source": [
    "def plot_confusion_matrix(actual_classes : np.array, predicted_classes : np.array, sorted_labels : list):\n",
    "\n",
    "    matrix = confusion_matrix(actual_classes, predicted_classes, labels=sorted_labels)\n",
    "    plt.figure(figsize=(12.8,6))\n",
    "    sns.heatmap(matrix, annot=True, xticklabels=sorted_labels, yticklabels=sorted_labels, cmap=\"Blues\", fmt=\"g\")\n",
    "    plt.xlabel('Predicted'); plt.ylabel('Actual'); plt.title('Confusion Matrix')\n",
    "\n",
    "    plt.show()"
   ]
  },
  {
   "cell_type": "code",
   "execution_count": 125,
   "id": "40ae5b6c-991a-49be-8aa8-4903cfab3161",
   "metadata": {},
   "outputs": [
    {
     "data": {
      "image/png": "[encoded data removed]",
      "text/plain": [
       "<Figure size 1280x600 with 2 Axes>"
      ]
     },
     "metadata": {},
     "output_type": "display_data"
    }
   ],
   "source": [
    "actual_classes, predicted_classes, _ = cross_val_predict(b_nb, cv, X.to_numpy(), y.to_numpy())\n",
    "plot_confusion_matrix(actual_classes, predicted_classes, [1,0])"
   ]
  },
  {
   "cell_type": "code",
   "execution_count": 113,
   "id": "32853d9a-a129-49b7-a213-78c6e2954c72",
   "metadata": {},
   "outputs": [
    {
     "name": "stdout",
     "output_type": "stream",
     "text": [
      "              precision    recall  f1-score   support\n",
      "\n",
      "           0       0.89      0.93      0.91      2788\n",
      "           1       0.88      0.82      0.85      1813\n",
      "\n",
      "    accuracy                           0.89      4601\n",
      "   macro avg       0.89      0.87      0.88      4601\n",
      "weighted avg       0.89      0.89      0.88      4601\n",
      "\n"
     ]
    }
   ],
   "source": [
    "print(classification_report(actual_classes, predicted_classes))"
   ]
  },
  {
   "cell_type": "code",
   "execution_count": 127,
   "id": "f7fb20b4-7280-459b-b2ea-e32b3e9209c6",
   "metadata": {},
   "outputs": [],
   "source": [
    "g_nb = GaussianNB()"
   ]
  },
  {
   "cell_type": "code",
   "execution_count": 129,
   "id": "7ad79d5e-8555-42b7-823e-f4ebc921f0ce",
   "metadata": {},
   "outputs": [
    {
     "data": {
      "image/png": "[encoded data removed]",
      "text/plain": [
       "<Figure size 1280x600 with 2 Axes>"
      ]
     },
     "metadata": {},
     "output_type": "display_data"
    }
   ],
   "source": [
    "actual_classes, predicted_classes, _ = cross_val_predict(g_nb, cv, X.to_numpy(), y.to_numpy())\n",
    "plot_confusion_matrix(actual_classes, predicted_classes, [1,0])"
   ]
  },
  {
   "cell_type": "code",
   "execution_count": 131,
   "id": "fa65e28a-058a-4d7e-b3ed-e408fd250eae",
   "metadata": {},
   "outputs": [
    {
     "name": "stdout",
     "output_type": "stream",
     "text": [
      "              precision    recall  f1-score   support\n",
      "\n",
      "           0       0.96      0.73      0.83      2788\n",
      "           1       0.70      0.96      0.81      1813\n",
      "\n",
      "    accuracy                           0.82      4601\n",
      "   macro avg       0.83      0.84      0.82      4601\n",
      "weighted avg       0.86      0.82      0.82      4601\n",
      "\n"
     ]
    }
   ],
   "source": [
    "print(classification_report(actual_classes, predicted_classes))"
   ]
  },
  {
   "cell_type": "code",
   "execution_count": null,
   "id": "0b722613-2e22-458d-90fd-eebb51d58223",
   "metadata": {},
   "outputs": [],
   "source": []
  }
 ],
 "metadata": {
  "kernelspec": {
   "display_name": "Python 3 (ipykernel)",
   "language": "python",
   "name": "python3"
  },
  "language_info": {
   "codemirror_mode": {
    "name": "ipython",
    "version": 3
   },
   "file_extension": ".py",
   "mimetype": "text/x-python",
   "name": "python",
   "nbconvert_exporter": "python",
   "pygments_lexer": "ipython3",
   "version": "3.12.4"
  }
 },
 "nbformat": 4,
 "nbformat_minor": 5
}
